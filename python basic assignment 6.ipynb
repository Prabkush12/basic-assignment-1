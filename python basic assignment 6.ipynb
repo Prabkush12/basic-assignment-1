{
 "cells": [
  {
   "cell_type": "markdown",
   "id": "f94aa841",
   "metadata": {},
   "source": [
    "# PYTHON BASIC ASSIGNMENT 6"
   ]
  },
  {
   "cell_type": "markdown",
   "id": "413b03c1",
   "metadata": {},
   "source": [
    "**1. What are escape characters, and how do you use them ?**\n",
    "\n",
    "Ans:-In Python strings, the backslash \"\\\" is a special character, also called the \"escape\" character. It is used in representing \n",
    "\n",
    "certain whitespace characters: \"\\t\" is a tab, \"\\n\" is a newline, and \"\\r\" is a carriage return. Conversely, prefixing a special \n",
    "\n",
    "character with \"\\\" turns it into an ordinary character."
   ]
  },
  {
   "cell_type": "markdown",
   "id": "b8413ce6",
   "metadata": {},
   "source": [
    "**2. What do the escape characters n and t stand for ?**\n",
    "\n",
    "Ans:- It is used in representing certain whitespace characters: \"\\t\" is a tab, \"\\n\" is a newline"
   ]
  },
  {
   "cell_type": "markdown",
   "id": "373fbc61",
   "metadata": {},
   "source": [
    "**3. What is the way to include backslash characters in a string ?**\n",
    "\n",
    "Ans:-If you want to include a backslash character itself,use the syntax \"\\\\\" to represent a single backslash."
   ]
  },
  {
   "cell_type": "markdown",
   "id": "e3e8b642",
   "metadata": {},
   "source": [
    "**4. The string \"Howl's Moving Castle\" is a correct value. Why isn't the single quote character in the \n",
    "word Howl's not escaped a problem?**\n",
    "\n",
    "Ans:- The single quote in Howl's is fine because you've used double quotes to mark the beginning and end of the string.If you don't \n",
    "\n",
    "want to put \\n in your string, how can you write a string with newlines in it"
   ]
  },
  {
   "cell_type": "markdown",
   "id": "7230e4e8",
   "metadata": {},
   "source": [
    "**5. How do you write a string of newlines if you don't want to use the n character?**\n",
    "\n",
    "Ans:-Multiline strings are another easy way to print text in a new line. As the name suggests the string itself spans over multiple \n",
    "\n",
    "lines. These strings can be assigned by using either 3 double quotes or 3 single quotes. Python understands that the string is a \n",
    "\n",
    "multiline string and prints it as such.\n"
   ]
  },
  {
   "cell_type": "code",
   "execution_count": 5,
   "id": "4e60a8df",
   "metadata": {},
   "outputs": [
    {
     "name": "stdout",
     "output_type": "stream",
     "text": [
      "I enrolled\n",
      "for i neuron Fsds\n"
     ]
    }
   ],
   "source": [
    "str_2 = \"\"\"I enrolled\n",
    "for i neuron Fsds\"\"\"\n",
    "\n",
    "print(str_2)"
   ]
  },
  {
   "cell_type": "markdown",
   "id": "20513f36",
   "metadata": {},
   "source": [
    "**6. What are the values of the given expressions?**\n",
    "\n",
    "'Hello, world!'[1]\n",
    "\n",
    "'Hello, world!'[0:5]\n",
    "\n",
    "'Hello, world!'[:5]\n",
    "\n",
    "'Hello, world!'[3:]\n",
    "\n",
    "Ans:-"
   ]
  },
  {
   "cell_type": "code",
   "execution_count": 10,
   "id": "5345f3a3",
   "metadata": {},
   "outputs": [
    {
     "name": "stdout",
     "output_type": "stream",
     "text": [
      "e\n",
      "Hello\n",
      "Hello\n",
      "lo, world!\n"
     ]
    }
   ],
   "source": [
    "print('Hello, world!'[1])\n",
    "print('Hello, world!'[0:5])\n",
    "print('Hello, world!'[:5])\n",
    "print('Hello, world!'[3:])"
   ]
  },
  {
   "cell_type": "markdown",
   "id": "289f9a24",
   "metadata": {},
   "source": []
  },
  {
   "cell_type": "markdown",
   "id": "1908b65a",
   "metadata": {},
   "source": [
    "**7. What are the values of the following expressions?**\n",
    "\n",
    "'Hello'.upper()\n",
    "\n",
    "'Hello'.upper().isupper()\n",
    "\n",
    "'Hello'.upper().lower()\n",
    "\n",
    "Ans:-"
   ]
  },
  {
   "cell_type": "code",
   "execution_count": 14,
   "id": "57609882",
   "metadata": {},
   "outputs": [
    {
     "name": "stdout",
     "output_type": "stream",
     "text": [
      "HELLO\n",
      "True\n",
      "hello\n"
     ]
    }
   ],
   "source": [
    "print('Hello'.upper())\n",
    "\n",
    "print('Hello'.upper().isupper())\n",
    "\n",
    "print('Hello'.upper().lower())"
   ]
  },
  {
   "cell_type": "markdown",
   "id": "d65dfcc2",
   "metadata": {},
   "source": [
    "**8. What are the values of the following expressions?**\n",
    "\n",
    "'Remember, remember, the fifth of July.'.split()\n",
    "\n",
    "'-'.join('There can only one.'.split())\n",
    "\n",
    "Ans:-"
   ]
  },
  {
   "cell_type": "code",
   "execution_count": 17,
   "id": "3c71d5d6",
   "metadata": {},
   "outputs": [
    {
     "name": "stdout",
     "output_type": "stream",
     "text": [
      "['Remember,', 'remember,', 'the', 'fifth', 'of', 'July.']\n"
     ]
    },
    {
     "data": {
      "text/plain": [
       "'There-can-only-one.'"
      ]
     },
     "execution_count": 17,
     "metadata": {},
     "output_type": "execute_result"
    }
   ],
   "source": [
    "print('Remember, remember, the fifth of July.'.split())\n",
    "\n",
    "'-'.join('There can only one.'.split())"
   ]
  },
  {
   "cell_type": "markdown",
   "id": "b68133bc",
   "metadata": {},
   "source": [
    "**9. What are the methods for right-justifying, left-justifying, and centering a string?**\n",
    "\n",
    "Ans:-String alignment is frequently used in many day-day applications. Python in its language offers several functions that helps to \n",
    "\n",
    "align string.The methods for right-justifying, left-justifying, and centering a string are rjust(),ljust(),center() respectively."
   ]
  },
  {
   "cell_type": "markdown",
   "id": "d3a94727",
   "metadata": {},
   "source": [
    "**10. What is the best way to remove whitespace characters from the start or end?**\n",
    "\n",
    "Ans:-By default, strip() function removes white spaces from start and end of the string and returns the same string without white \n",
    "\n",
    "spaces.\n"
   ]
  }
 ],
 "metadata": {
  "kernelspec": {
   "display_name": "Python 3 (ipykernel)",
   "language": "python",
   "name": "python3"
  },
  "language_info": {
   "codemirror_mode": {
    "name": "ipython",
    "version": 3
   },
   "file_extension": ".py",
   "mimetype": "text/x-python",
   "name": "python",
   "nbconvert_exporter": "python",
   "pygments_lexer": "ipython3",
   "version": "3.9.7"
  }
 },
 "nbformat": 4,
 "nbformat_minor": 5
}
