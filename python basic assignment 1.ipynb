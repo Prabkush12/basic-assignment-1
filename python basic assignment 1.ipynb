{
 "cells": [
  {
   "cell_type": "markdown",
   "id": "5b967329",
   "metadata": {},
   "source": [
    "# PYTHON BASIC ASSIGNMENT 1"
   ]
  },
  {
   "cell_type": "markdown",
   "id": "1908cbd9",
   "metadata": {},
   "source": [
    "1.In the below elements which of them are values or an expression? \n",
    "\n",
    "Ans:- Values can be string, boolean, decimal, integer etc.  whereas expressions will be mathematical operators.\n",
    "\n",
    "*   expression\n",
    "\n",
    "'hello'  value\n",
    "\n",
    "-87.8  value\n",
    "\n",
    "-   expression\n",
    "\n",
    "/   expression \n",
    "\n",
    "+   expression\n",
    "\n",
    "6   value"
   ]
  },
  {
   "cell_type": "markdown",
   "id": "c342d95d",
   "metadata": {},
   "source": [
    "2. What is the difference between string and variable?  \n",
    "\n",
    "Ans:- Anything you assign to a variable using quotes (single or double) will be considered as a string. Thus, a string is one of several types of a variable.\n",
    "\n",
    "Example:-     a=”we are ineurons”\n",
    "                     b=”data science”      \n",
    "\n",
    "A variable is something that stores data i.e it can store a string, int, float, class, etc.\n",
    "Here “a” and “b” are variables and ”we are ineurons” and ”data science” are string"
   ]
  },
  {
   "cell_type": "markdown",
   "id": "a3655f9e",
   "metadata": {},
   "source": [
    "3. Describe three different data types.\n",
    "\n",
    "Ans:- \n",
    "\n",
    "•\tIntegers – This value is represented by int class. It contains positive or negative whole numbers (without fraction or decimal). In Python there is no limit to how long an integer value can be.\n",
    "\n",
    "•\tFloat – This value is represented by float class. It is a real number with floating point representation. It is specified by a decimal point. Optionally, the character e or E followed by a positive or negative integer may be appended to specify scientific notation.\n",
    "\n",
    "•\tComplex Numbers – Complex number is represented by complex class. It is specified as (real part) + (imaginary part)j. For example – 2+3j"
   ]
  },
  {
   "cell_type": "markdown",
   "id": "4791c2bc",
   "metadata": {},
   "source": [
    " 4. What is an expression made up of ? What do all expressions do ?\n",
    "\n",
    "Ans:- An expression is a construct made up of variables, operators, and method invocations, which are constructed according to the syntax of the language, that evaluates to a single value.\n",
    "In any programming language, an expression is evaluated as per the precedence of its operators."
   ]
  },
  {
   "cell_type": "markdown",
   "id": "b55e9823",
   "metadata": {},
   "source": [
    "5. This assignment statements like spam=10.What is the difference between an expression and a statement?\n",
    "\n",
    "Ans:-In programming language terminology, an “expression” is a combination of values and functions that are combined and interpreted by the compiler to create a new value, as opposed to a “statement” which is just a standalone unit of execution and doesn't return anything."
   ]
  },
  {
   "cell_type": "markdown",
   "id": "74516425",
   "metadata": {},
   "source": [
    "6. After running the following code, what does the variable bacon contain?\n",
    "\n",
    "bacon = 22\n",
    "bacon + 1 represents\n",
    "Ans:- It gives 23 after execution of code."
   ]
  },
  {
   "cell_type": "markdown",
   "id": "5126d853",
   "metadata": {},
   "source": [
    " 7. What should the values of the following two terms be?\n",
    "' spam ' + ' spamspam '\n",
    "\n",
    "' spam ' * 3.\n",
    "\n",
    "Ans:- The values of the two terms remain same."
   ]
  },
  {
   "cell_type": "markdown",
   "id": "b1440a93",
   "metadata": {},
   "source": [
    "8. Why are eggs a valid variable name while 100 is invalid?\n",
    "\n",
    "Ans:- Eggs are a valid variable name but 100 is not a valid variable name because variable name cannot begin with an integer"
   ]
  },
  {
   "cell_type": "markdown",
   "id": "5b908686",
   "metadata": {},
   "source": [
    "9. What three functions can be used to get the integer, floating-point number, or string version of a value  ?\n",
    "\n",
    "Ans :- The three functions that can be used to get the integer, floating-point number, or string version of a value are   int(), float() and str() respectively."
   ]
  },
  {
   "cell_type": "markdown",
   "id": "cfde91fc",
   "metadata": {},
   "source": [
    "10. Why does this expression cause an error? How can you fix it?\n",
    "'I have eaten' + 99 + 'burritos'.\n",
    "\n",
    "Ans:-  The expression causes error as 99 is an integer and cannot be concatenated with strings as concatenation of integer with string is not possible .If we want to join or concatenate ,firstly we need to typecast it in string by enclosing it in inverted commas."
   ]
  }
 ],
 "metadata": {
  "kernelspec": {
   "display_name": "Python 3 (ipykernel)",
   "language": "python",
   "name": "python3"
  },
  "language_info": {
   "codemirror_mode": {
    "name": "ipython",
    "version": 3
   },
   "file_extension": ".py",
   "mimetype": "text/x-python",
   "name": "python",
   "nbconvert_exporter": "python",
   "pygments_lexer": "ipython3",
   "version": "3.9.7"
  }
 },
 "nbformat": 4,
 "nbformat_minor": 5
}
