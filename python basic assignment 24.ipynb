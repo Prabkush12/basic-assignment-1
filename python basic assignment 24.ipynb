{
 "cells": [
  {
   "cell_type": "markdown",
   "id": "437b901e",
   "metadata": {},
   "source": [
    "## python basic assignment 24"
   ]
  },
  {
   "cell_type": "markdown",
   "id": "f379b7d0",
   "metadata": {},
   "source": [
    "**1. What is the relationship between def statements and lambda expressions?**\n",
    "\n",
    "ANS:-Here in the code below both of them returns the cube of a given number. But, while using def, we needed to define a function \n",
    "\n",
    "with a name cube and needed to pass a value to it. After execution, we also needed to return the result from where the function was \n",
    "\n",
    "called using the return keyword whereas using Lambda expression it does not include a “return” statement, it always contains an \n",
    "\n",
    "expression which is returned. We can also put a lambda definition anywhere a function is expected, and we don’t have to assign it to \n",
    "\n",
    "a variable at all. This is the simplicity of lambda functions."
   ]
  },
  {
   "cell_type": "code",
   "execution_count": 1,
   "id": "88533327",
   "metadata": {},
   "outputs": [
    {
     "name": "stdout",
     "output_type": "stream",
     "text": [
      "125\n",
      "64\n"
     ]
    }
   ],
   "source": [
    "def cube(y): \n",
    "    return y*y*y \n",
    "f = lambda x: x*x*x \n",
    "print(f(5)) \n",
    "print(cube(4)) "
   ]
  },
  {
   "cell_type": "markdown",
   "id": "b5bca938",
   "metadata": {},
   "source": [
    "**2.What is the benefit of lambda?**\n",
    "\n",
    "Ans:-The lambda keyword in Python provides a shortcut for declaring small anonymous functions. Lambda functions behave just like \n",
    "\n",
    "regular functions declared with the def keyword. They can be used whenever function objects are required."
   ]
  },
  {
   "cell_type": "markdown",
   "id": "79f42189",
   "metadata": {},
   "source": [
    "**3. Compare and contrast map, filter, and reduce.**\n",
    "\n",
    "Ans:-The map() function is a higher-order function.This function accepts another function and a sequence of ‘iterables’ as \n",
    "\n",
    "parameters and provides output after applying the function to each iterable in the sequence.\n",
    "\n",
    "The filter() function is used to generate an output list of values that return true when the function is called.\n",
    "\n",
    "The reduce() function applies a provided function to ‘iterables’ and returns a single value, as the name implies."
   ]
  },
  {
   "cell_type": "code",
   "execution_count": 2,
   "id": "82be60d6",
   "metadata": {},
   "outputs": [
    {
     "name": "stdout",
     "output_type": "stream",
     "text": [
      "<map object at 0x0000020FD8D396D0>\n",
      "{1, 4, 9, 16, 25}\n",
      "<filter object at 0x0000020FD8D04B80>\n",
      "[3, 4, 5]\n",
      "a= 1  b= 2\n",
      "a= 2  b= 3\n",
      "Factorial of 3:  6\n"
     ]
    }
   ],
   "source": [
    "def func(b):\n",
    "    return b*b\n",
    "y = map(func, (1,2,3,4,5))  #y is the map object\n",
    "print(y)\n",
    "print(set(y))\n",
    "\n",
    "def func(z):\n",
    "    if z>=3:\n",
    "        return z\n",
    "y = filter(func, (1,2,3,4,5))  \n",
    "print(y)\n",
    "print(list(y))\n",
    "\n",
    "import functools\n",
    "def mult(a,b):\n",
    "    print(\"a=\",a,\" b=\",b)\n",
    "    return a*b\n",
    "\n",
    "fact=functools.reduce(mult, range(1, 4))\n",
    "print ('Factorial of 3: ', fact)"
   ]
  },
  {
   "cell_type": "markdown",
   "id": "3699cf5c",
   "metadata": {},
   "source": [
    "**4. What are function annotations, and how are they used?**\n",
    "\n",
    "Ans:-Function annotations introduced in Python adds a feature that allows you to add arbitrary metadata to function parameters \n",
    "\n",
    "and return value.Function annotations have been officially added to python. The primary purpose was to have a standard way to link \n",
    "\n",
    "metadata to function parameters and return value.\n",
    "\n",
    "The annotations for parameters take the following form −\n",
    "\n",
    "def fa(x: expression, y: expression = 20):\n",
    "  \n",
    "\n",
    "Whereas the annotations for excess parameters are as −\n",
    "\n",
    "def fa(**args: expression, **kwargs: expression):"
   ]
  },
  {
   "cell_type": "markdown",
   "id": "67091f82",
   "metadata": {},
   "source": [
    "**5. What are recursive functions, and how are they used?**\n",
    "\n",
    "Ans:-A recursive function is a function that calls itself during its execution. The process may repeat several times, outputting the \n",
    "\n",
    "result and the end of each iteration."
   ]
  },
  {
   "cell_type": "code",
   "execution_count": 3,
   "id": "4e5b6676",
   "metadata": {},
   "outputs": [
    {
     "name": "stdout",
     "output_type": "stream",
     "text": [
      "The factorial of 4 is 24\n"
     ]
    }
   ],
   "source": [
    "def factorial(x):#This is a recursive function to find the factorial\n",
    "\n",
    "    if x == 1:\n",
    "        return 1\n",
    "    else:\n",
    "        return (x * factorial(x-1))\n",
    "    \n",
    "num = 4\n",
    "print(\"The factorial of\", num, \"is\", factorial(num))"
   ]
  },
  {
   "cell_type": "markdown",
   "id": "7cf1c2a4",
   "metadata": {},
   "source": [
    "**6. What are some general design guidelines for coding functions?**\n",
    "\n",
    "Ans:-Some general design guidelines for coding functions are as follows:-\n",
    "\n",
    "Standard headers for different modules\n",
    "\n",
    "Always use a docstring to explain the functionality of the function\n",
    "\n",
    "Avoid using or limited use of global variables\n",
    "\n",
    "Proper Identation to increase the code readability\n",
    "\n",
    "Try to follow a naming convention for function names (pascalCase or camelCase) and stick with the same convention throughout the \n",
    "\n",
    "application.\n",
    "\n",
    "Avoid using digits while choosing a variable name\n",
    "\n",
    "Try to use a name for the function which conveys the purpose of the function\n",
    "\n",
    "Error return values and exception handling conventions\n",
    "\n",
    "Code should be well documented\n",
    "\n",
    "Avoid using a coding style that is too difficult to understand"
   ]
  },
  {
   "cell_type": "markdown",
   "id": "e5f7a67e",
   "metadata": {},
   "source": [
    "**7. Name three or more ways that functions can communicate results to a caller.**\n",
    "\n",
    "Ans:-Some of the ways in which a function can communicate with the calling function are:\n",
    "\n",
    "return,yield and print."
   ]
  }
 ],
 "metadata": {
  "kernelspec": {
   "display_name": "Python 3 (ipykernel)",
   "language": "python",
   "name": "python3"
  },
  "language_info": {
   "codemirror_mode": {
    "name": "ipython",
    "version": 3
   },
   "file_extension": ".py",
   "mimetype": "text/x-python",
   "name": "python",
   "nbconvert_exporter": "python",
   "pygments_lexer": "ipython3",
   "version": "3.9.7"
  }
 },
 "nbformat": 4,
 "nbformat_minor": 5
}
