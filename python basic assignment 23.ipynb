{
 "cells": [
  {
   "cell_type": "markdown",
   "id": "955e13ff",
   "metadata": {},
   "source": [
    "## python basic assignment 23"
   ]
  },
  {
   "cell_type": "markdown",
   "id": "ae3165ee",
   "metadata": {},
   "source": [
    "**1. What is the result of the code, and why?**\n",
    "\n",
    "*>>> def func(a, b=6, c=8):*\n",
    "\n",
    "*print(a, b, c)*\n",
    "\n",
    "*>>> func(1, 2)*\n",
    "\n",
    "Ans:-The default value for c is 8 which is already declared."
   ]
  },
  {
   "cell_type": "code",
   "execution_count": 2,
   "id": "36eac0af",
   "metadata": {},
   "outputs": [
    {
     "name": "stdout",
     "output_type": "stream",
     "text": [
      "1 2 8\n"
     ]
    }
   ],
   "source": [
    "def func(a, b=6, c=8):\n",
    "    print(a, b, c)\n",
    "func(1, 2)"
   ]
  },
  {
   "cell_type": "markdown",
   "id": "10f45322",
   "metadata": {},
   "source": [
    "**2. What is the result of this code, and why?**\n",
    "\n",
    "*>>> def func(a, b, c=5):*\n",
    "\n",
    "*print(a, b, c)*\n",
    "\n",
    "*>>> func(1, c=3, b=2)*\n",
    "\n",
    "Ans:-The result of the above code is 1 2 3.It is because the function uses default values only when a value for an argument is \n",
    "\n",
    "not provided and if argument's name is mentioned while performing a function call,the order of arguments is also ignored by the \n",
    "\n",
    "python interpreter."
   ]
  },
  {
   "cell_type": "code",
   "execution_count": 8,
   "id": "2e8598a3",
   "metadata": {},
   "outputs": [
    {
     "name": "stdout",
     "output_type": "stream",
     "text": [
      "1 2 3\n"
     ]
    }
   ],
   "source": [
    "def func(a, b, c=5):\n",
    "    print(a, b, c)\n",
    "func(1, c=3, b=2)\n"
   ]
  },
  {
   "cell_type": "markdown",
   "id": "318caef8",
   "metadata": {},
   "source": [
    "**3. How about this code: what is its result, and why?**\n",
    "\n",
    "*>>> def func(a, *pargs):*\n",
    "\n",
    "*print(a, pargs)*\n",
    "\n",
    "*>>> func(1, 2, 3)*\n",
    "\n",
    "Ans:-In Python, the single-asterisk form of *args can be used as a parameter to send a non-keyworded variable-length argument list \n",
    "\n",
    "to functions.The result of the code is 1 (2,3). *pargs stands for variable length arguments. this format is used when we are not \n",
    "\n",
    "sure about the no of arguments to be passed to a function. all the values under this argument will be stored in a tuple."
   ]
  },
  {
   "cell_type": "code",
   "execution_count": 10,
   "id": "eb3fa789",
   "metadata": {},
   "outputs": [
    {
     "name": "stdout",
     "output_type": "stream",
     "text": [
      "1 (2, 3)\n"
     ]
    }
   ],
   "source": [
    "def func(a, *pargs):\n",
    "    print(a,pargs)\n",
    "func(1,2,3)"
   ]
  },
  {
   "cell_type": "markdown",
   "id": "224e88f4",
   "metadata": {},
   "source": [
    "**4. What does this code print, and why?**\n",
    "\n",
    "*>>> def func(a, **kargs):*\n",
    "\n",
    "*print(a, kargs)*\n",
    "\n",
    "*>>> func(a=1, c=3, b=2)*\n",
    "\n",
    "Ans:-The double asterisk form of **kwargs is used to pass a keyworded, variable-length argument dictionary to a function.\n",
    "\n",
    "Here the value comes in key-value pairs."
   ]
  },
  {
   "cell_type": "code",
   "execution_count": 11,
   "id": "2c115208",
   "metadata": {},
   "outputs": [
    {
     "name": "stdout",
     "output_type": "stream",
     "text": [
      "1 {'c': 3, 'b': 2}\n"
     ]
    }
   ],
   "source": [
    "def func(a,**kargs):\n",
    "    print(a,kargs)\n",
    "func(a=1,c=3,b=2)"
   ]
  },
  {
   "cell_type": "markdown",
   "id": "46854bf0",
   "metadata": {},
   "source": [
    "**5. What gets printed by this, and explain?**\n",
    "\n",
    "\n",
    "*>>> def func(a, b, c=8, d=5): print(a, b, c, d)8*\n",
    "\n",
    "*>>> func(1, *(5, 6)*\n",
    "\n",
    "Ans:- The output of the above is 1 5 6 5. The function is not throwing an error as this function expects 4 arguments.The value for a \n",
    "\n",
    "is provided explicitly whereas for arguments b and c, the function will expand the *(5,6) and assign the value of b as 5 and value \n",
    "\n",
    "of c as 6.Since the default value of d is provided in function declaration and value of d will be 5. However \n",
    "\n",
    "it is more proper to use the feature of positional arguments at the end."
   ]
  },
  {
   "cell_type": "code",
   "execution_count": 13,
   "id": "97c27c8a",
   "metadata": {},
   "outputs": [
    {
     "name": "stdout",
     "output_type": "stream",
     "text": [
      "1 5 6 5\n"
     ]
    }
   ],
   "source": [
    "def func(a,b,c=8,d=5):\n",
    "    print(a,b,c,d)\n",
    "func(1,*(5,6))"
   ]
  },
  {
   "cell_type": "markdown",
   "id": "ad3577a8",
   "metadata": {},
   "source": [
    "**6. what is the result of this, and explain?**\n",
    "\n",
    "*>>> def func(a, b, c): a = 2; b[0] = 'x'; c['a'] = 'y'*\n",
    "\n",
    "*>>> l=1; m=[1]; n={'a':0}*\n",
    "\n",
    "*>>> func(l, m, n)*\n",
    "\n",
    "*>>> l, m, n*\n",
    "\n",
    "Ans:-Here l,m,n are provided as inputs to the function above.It modifies the values of l,m,n and sets the value of l=2 ,m=['x'] and n={'a':'y'} after the execution"
   ]
  },
  {
   "cell_type": "code",
   "execution_count": 14,
   "id": "98baf505",
   "metadata": {},
   "outputs": [
    {
     "data": {
      "text/plain": [
       "(1, ['x'], {'a': 'y'})"
      ]
     },
     "execution_count": 14,
     "metadata": {},
     "output_type": "execute_result"
    }
   ],
   "source": [
    "def func(a, b, c): a = 2; b[0] = 'x'; c['a'] = 'y'\n",
    "l=1; m=[1]; n={'a':0}\n",
    "func(l, m, n)\n",
    "l,m,n"
   ]
  },
  {
   "cell_type": "code",
   "execution_count": null,
   "id": "a24095ce",
   "metadata": {},
   "outputs": [],
   "source": []
  }
 ],
 "metadata": {
  "kernelspec": {
   "display_name": "Python 3 (ipykernel)",
   "language": "python",
   "name": "python3"
  },
  "language_info": {
   "codemirror_mode": {
    "name": "ipython",
    "version": 3
   },
   "file_extension": ".py",
   "mimetype": "text/x-python",
   "name": "python",
   "nbconvert_exporter": "python",
   "pygments_lexer": "ipython3",
   "version": "3.9.7"
  }
 },
 "nbformat": 4,
 "nbformat_minor": 5
}
