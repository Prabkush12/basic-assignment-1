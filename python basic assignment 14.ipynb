{
 "cells": [
  {
   "cell_type": "markdown",
   "id": "868b2da2",
   "metadata": {},
   "source": [
    "## python basic assignment 14"
   ]
  },
  {
   "cell_type": "markdown",
   "id": "a9813cad",
   "metadata": {},
   "source": [
    "**1. What does RGBA stand for?**\n",
    "\n",
    "Ans:-RGBA tuples are 4-tuples where the respective tuple components represent red, green, blue, and alpha (opacity) values for a \n",
    "\n",
    "color.There is no use to the Alpha channel other than making the color transparent/opaque (or partially transparent; translucent)."
   ]
  },
  {
   "cell_type": "markdown",
   "id": "4fa62914",
   "metadata": {},
   "source": [
    "**2. From the Pillow module, how do you get the RGBA value of any images?**\n",
    "\n",
    "Ans:-The color of a single pixel is represented as a series of three numbers between 0 and 255. These values correspond to red, \n",
    "\n",
    "green, and blue respectively.\n",
    "\n",
    "Syntax: PIL.ImageColor.getcolor (color, mode)\n",
    "\n",
    "Parameters:\n",
    "color - A color string\n",
    "\n",
    "Returns: (graylevel [, alpha]) or (red , green, blue [, alpha])"
   ]
  },
  {
   "cell_type": "markdown",
   "id": "564b423f",
   "metadata": {},
   "source": [
    "**3. What is a box tuple, and how does it work?**\n",
    "\n",
    "Ans:-Many of Pillow’s functions and methods take a box tuple argument. This means Pillow is expecting a tuple of four integer \n",
    "\n",
    "coordinates that represent a rectangular region in an image. The four integers are, in order, as follows:\n",
    "\n",
    "Left: The x-coordinate of the leftmost edge of the box.\n",
    "\n",
    "Top: The y-coordinate of the top edge of the box.\n",
    "\n",
    "Right: The x-coordinate of one pixel to the right of the rightmost edge of the box. This integer must be greater than the left \n",
    "\n",
    "integer.\n",
    "\n",
    "Bottom: The y-coordinate of one pixel lower than the bottom edge of the box. This integer must be greater than the top integer."
   ]
  },
  {
   "cell_type": "markdown",
   "id": "547b4954",
   "metadata": {},
   "source": [
    "**4. Use your image and load in notebook then, How can you find out the width and height of an \n",
    "Image object?**\n",
    "\n",
    "Ans:-"
   ]
  },
  {
   "cell_type": "code",
   "execution_count": null,
   "id": "9ee89467",
   "metadata": {},
   "outputs": [],
   "source": [
    "# import required module\n",
    "from PIL import Image\n",
    "  \n",
    "# get image\n",
    "filepath = \"C:\\Users\\Asus\\Pictures\\Camera Roll\"\n",
    "img = Image.open(filepath)\n",
    "  \n",
    "# get width and height\n",
    "width = img.width\n",
    "height = img.height\n",
    "  \n",
    "# display width and height\n",
    "print(\"The height of the image is: \", height)\n",
    "print(\"The width of the image is: \", width)\n"
   ]
  },
  {
   "cell_type": "markdown",
   "id": "d6d92821",
   "metadata": {},
   "source": [
    "**5. What method would you call to get Image object for a 100×100 image, excluding the lower-left quarter of it?**\n",
    "\n",
    "Ans:-\n",
    "\n",
    "from PIL import Image\n",
    "img = Image.open('Pic.jpg')\n",
    "new_img = img.crop((0,50,50,50)"
   ]
  },
  {
   "cell_type": "markdown",
   "id": "9d4a4351",
   "metadata": {},
   "source": [
    "**6. After making changes to an Image object, how could you save it as an image file?**\n",
    "\n",
    "Ans:-\n",
    "\n",
    "### Importing Image module from PIL package \n",
    "from PIL import Image \n",
    "import PIL \n",
    "  \n",
    "### creating a image object (main image) \n",
    "im1 = Image.open(r\"C:\\Users\\System-Pc\\Desktop\\flower1.jpg\") \n",
    "  \n",
    "### save a image using extension\n",
    "im1 = im1.save(\"Pic.jpg\")"
   ]
  },
  {
   "cell_type": "markdown",
   "id": "ff1ae809",
   "metadata": {},
   "source": [
    "**7. What module contains Pillow’s shape-drawing code?**\n",
    "\n",
    "Ans:-The 'ImageDraw' module provides simple 2D graphics support for Image Object. Generally, we use this module to create new \n",
    "\n",
    "images, annotate or retouch existing images and to generate graphics on the fly for web use. The graphics commands support the \n",
    "\n",
    "drawing of shapes and annotation of text."
   ]
  },
  {
   "cell_type": "markdown",
   "id": "4826ffd0",
   "metadata": {},
   "source": [
    "**8. Image objects do not have drawing methods. What kind of object does? How do you get this kind \n",
    "of object?**\n",
    "\n",
    "Ans:-Drawing objects are created exclusively by the window method begindrawing(). Only one drawing object can exist at any given \n",
    "\n",
    "time; the drawing object must be deleted to finish drawing. No drawing object may exist when stdwin.getevent() is called.\n",
    "\n",
    "ImageDraw objects have shape-drawing methods such as point(), line(), or rectangle().They are returned by passing the Image \n",
    "\n",
    "object to the ImageDraw.Draw() function."
   ]
  }
 ],
 "metadata": {
  "kernelspec": {
   "display_name": "Python 3 (ipykernel)",
   "language": "python",
   "name": "python3"
  },
  "language_info": {
   "codemirror_mode": {
    "name": "ipython",
    "version": 3
   },
   "file_extension": ".py",
   "mimetype": "text/x-python",
   "name": "python",
   "nbconvert_exporter": "python",
   "pygments_lexer": "ipython3",
   "version": "3.9.7"
  }
 },
 "nbformat": 4,
 "nbformat_minor": 5
}
