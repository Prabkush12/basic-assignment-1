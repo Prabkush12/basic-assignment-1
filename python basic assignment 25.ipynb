{
 "cells": [
  {
   "cell_type": "markdown",
   "id": "76921138",
   "metadata": {},
   "source": [
    "## python basic assignment 25"
   ]
  },
  {
   "cell_type": "markdown",
   "id": "4897d4a4",
   "metadata": {},
   "source": [
    "**1. What is the difference between enclosing a list comprehension in square brackets and \n",
    "parentheses ?**\n",
    "\n",
    "Ans:-The difference between the two kinds of expressions is that the List comprehension is enclosed in square brackets [] while the \n",
    "\n",
    "Generator expression is enclosed in plain parentheses ()."
   ]
  },
  {
   "cell_type": "code",
   "execution_count": 10,
   "id": "0c2d7835",
   "metadata": {},
   "outputs": [
    {
     "name": "stdout",
     "output_type": "stream",
     "text": [
      "<class 'list'>\n",
      "<class 'generator'>\n"
     ]
    }
   ],
   "source": [
    "l = [n*2 for n in range(10)] # List comprehension\n",
    "g = (n*2 for n in range(10))  # Generator expression\n",
    "\n",
    "print(type(l))  # 'list'\n",
    "print(type(g))  # 'generator'"
   ]
  },
  {
   "cell_type": "markdown",
   "id": "1e18bafa",
   "metadata": {},
   "source": [
    "**2. What is the relationship between generators and iterators?**\n",
    "\n",
    "Ans:-\n",
    "An iterator is an object which contains a countable number of values and it is used to iterate over iterable objects like list, \n",
    "\n",
    "tuples, sets, etc. Iterators are implemented using a class and a local variable for iterating is not required here, It follows lazy \n",
    "\n",
    "evaluation where the evaluation of the expression will be on hold and stored in the memory until the item is called specifically \n",
    "\n",
    "which helps us to avoid repeated evaluation. As lazy evaluation is implemented, it requires only 1 memory location to process the \n",
    "\n",
    "value and when we are using a large dataset then, wastage of RAM space will be reduced the need to load the entire dataset at the \n",
    "\n",
    "same time will not be there.\n",
    "\n",
    "Using an iterator-\n",
    "\n",
    "iter() keyword is used to create an iterator containing an iterable object.\n",
    "\n",
    "next() keyword is used to call the next element in the iterable object.\n",
    "\n",
    "After the iterable object is completed, to use them again reassign them to the same object.\n",
    "\n",
    "Example:"
   ]
  },
  {
   "cell_type": "code",
   "execution_count": 12,
   "id": "bb00ae92",
   "metadata": {},
   "outputs": [
    {
     "name": "stdout",
     "output_type": "stream",
     "text": [
      "data science\n",
      "for\n",
      "all\n"
     ]
    }
   ],
   "source": [
    "iter_list = iter(['data science', 'for', 'all'])\n",
    "print(next(iter_list))\n",
    "print(next(iter_list))\n",
    "print(next(iter_list))"
   ]
  },
  {
   "cell_type": "markdown",
   "id": "069d74b2",
   "metadata": {},
   "source": [
    "Generators-It is another way of creating iterators in a simple way where it uses the keyword “yield” instead of returning it in a \n",
    "\n",
    "defined function. Generators are implemented using a function. Just as iterators, generators also follow lazy evaluation. Here, the \n",
    "\n",
    "yield function returns the data without affecting or exiting the function. It will return a sequence of data in an iterable format \n",
    "\n",
    "where we need to iterate over the sequence to use the data as they won’t store the entire sequence in the memory.\n",
    "\n",
    "using generators below:-"
   ]
  },
  {
   "cell_type": "code",
   "execution_count": 15,
   "id": "5ce1bac6",
   "metadata": {},
   "outputs": [
    {
     "name": "stdout",
     "output_type": "stream",
     "text": [
      "The square of numbers 1,2,3 are : \n",
      "1\n",
      "4\n",
      "9\n"
     ]
    }
   ],
   "source": [
    "def squ_nums(n):\n",
    "    for i in range(1, n+1):\n",
    "        yield i*i\n",
    "  \n",
    "  \n",
    "a = squ_nums(3)\n",
    "  \n",
    "print(\"The square of numbers 1,2,3 are : \")\n",
    "print(next(a))\n",
    "print(next(a))\n",
    "print(next(a))"
   ]
  },
  {
   "cell_type": "markdown",
   "id": "3aa9e47d",
   "metadata": {},
   "source": [
    "**3 What are the signs that a function is a generator function?**\n",
    "Ans:-If a function contains at least one yield statement (it may contain other yield or return statements), it becomes a generator \n",
    "\n",
    "function. Both yield and return will return some value from a function."
   ]
  },
  {
   "cell_type": "markdown",
   "id": "5c904fc5",
   "metadata": {},
   "source": [
    "**4 What is the purpose of a yield statement?**\n",
    "\n",
    "Ans:-Yield is a keyword in Python that is used to return from a function without destroying the states of its local variable and \n",
    "\n",
    "when the function is called, the execution starts from the last yield statement."
   ]
  },
  {
   "cell_type": "markdown",
   "id": "f557d41f",
   "metadata": {},
   "source": [
    "**5 What is the relationship between map calls and list comprehensions? Make a comparison and \n",
    "contrast between the two.**\n",
    "\n",
    "Ans:-Assume that we have a formula. We want to apply that formula to each element of a list and thereby create a new list. Now, \n",
    "\n",
    "using for loop, we can traverse through that given list, pick each item, apply them into the formula and append it to the resultant \n",
    "\n",
    "list. That is a long process that consists of many lines of code. So, in one line, we can use the map function as discussed above.  \n",
    "\n",
    "Now, python list comprehension is a tool for creating a new list. We can use the functionality of lambda expression, filter method, \n",
    "\n",
    "and map function together using only this list comprehension.  \n",
    "\n",
    "**list vs map**\n",
    "\n",
    "List comprehension has a simpler configuration than the map function.  \n",
    "\n",
    "List comprehension can be used together with if condition as replacement of filter method. Map function has no such functionality. \n",
    "\n",
    "However, we can feed the map function output to the filter function.  \n",
    "\n",
    "List comprehension returns a list, whereas the map function returns an object of Iterable.  \n",
    "\n",
    "List comprehension execution is faster than that of map function when the formula expression is huge and complex. \n",
    "\n",
    "Map function is faster than list comprehension when the formula is already defined as a function earlier. So, that map function is \n",
    "\n",
    "used without lambda expression. "
   ]
  },
  {
   "cell_type": "code",
   "execution_count": null,
   "id": "b283c2bf",
   "metadata": {},
   "outputs": [],
   "source": []
  }
 ],
 "metadata": {
  "kernelspec": {
   "display_name": "Python 3 (ipykernel)",
   "language": "python",
   "name": "python3"
  },
  "language_info": {
   "codemirror_mode": {
    "name": "ipython",
    "version": 3
   },
   "file_extension": ".py",
   "mimetype": "text/x-python",
   "name": "python",
   "nbconvert_exporter": "python",
   "pygments_lexer": "ipython3",
   "version": "3.9.7"
  }
 },
 "nbformat": 4,
 "nbformat_minor": 5
}
