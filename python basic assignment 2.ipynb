{
 "cells": [
  {
   "cell_type": "markdown",
   "id": "16b0ec2c",
   "metadata": {},
   "source": [
    "# python basic assignment 2"
   ]
  },
  {
   "cell_type": "markdown",
   "id": "4a074ed9",
   "metadata": {},
   "source": [
    "**1. What are the two values of the Boolean data type? How do you write them ?**\n",
    "\n",
    "Ans:-  There are two Boolean values: True and False. Values in Python can be compared using comparison operations, and Boolean logic can be formulated with the use of logic operations. The easiest way to get a boolean value (true or false) is using a comparison expression, such as (a < 10). The less-than operator, <, takes two values and evaluates to true if the first is less than the second."
   ]
  },
  {
   "cell_type": "markdown",
   "id": "82737697",
   "metadata": {},
   "source": [
    "**2. What are the three different types of Boolean  operators ?**\n",
    "\n",
    "Ans:- There are three types of boolean operators:\n",
    "\n",
    "•\tThe and operator (&& or \"and\")\n",
    "\n",
    "•\tThe or operator (|| or \"or\")\n",
    "\n",
    "•\tThe not operator (not)"
   ]
  },
  {
   "cell_type": "markdown",
   "id": "27ca3767",
   "metadata": {},
   "source": [
    "**3. Make a list of each Boolean operator's truth tables (i.e. every possible combination of Boolean values for the operator and what it evaluate).**\n",
    "\n",
    "Ans: The Truth tables for the boolean tables are as follows:\n",
    "\n",
    "**Truth Table for and operaotor**\n",
    "\n",
    "True and True is True\n",
    "True and False is False\n",
    "False and True is False\n",
    "False and False is False\n",
    "\n",
    "**Truth Table for not operaotor**\n",
    "\n",
    "True not is False False not is True\n",
    "\n",
    "**Truth Table for or operaotor**\n",
    "\n",
    "True and True is True\n",
    "True and False is True\n",
    "False and True is True\n",
    "False and False is False"
   ]
  },
  {
   "cell_type": "markdown",
   "id": "a06eef4e",
   "metadata": {},
   "source": [
    "**4. What are the values of the following expressions?**\n",
    "\n",
    "(5 > 4) and (3 == 5)\n",
    " \n",
    " not (5 > 4) \n",
    "\n",
    "(5 > 4) or (3 == 5) \n",
    "\n",
    "not ((5 > 4) or (3 == 5)) \n",
    "\n",
    "(True and True) and (True == False) \n",
    "\n",
    "(not False) or (not True) ."
   ]
  },
  {
   "cell_type": "code",
   "execution_count": 13,
   "id": "3b469e54",
   "metadata": {},
   "outputs": [
    {
     "name": "stdout",
     "output_type": "stream",
     "text": [
      "False\n",
      "False\n",
      "True\n",
      "False\n",
      "False\n",
      "True\n"
     ]
    }
   ],
   "source": [
    "print((5>4)and(3==5)) # False\n",
    "print(not(5>4)) # False\n",
    "print((5>4)or(3==5)) # True\n",
    "print(not((5>4)or(3==5))) # False\n",
    "print((True and True)and(True==False)) # False\n",
    "print((not False)or(not True)) # True\n",
    " "
   ]
  },
  {
   "cell_type": "markdown",
   "id": "9455760e",
   "metadata": {},
   "source": [
    "**5. What are the six comparison operators?**\n",
    "\n",
    "Ans:-  Python has six comparison operators:\n",
    "\n",
    "less than ( < )\n",
    "\n",
    "less than or equal to ( <= )\n",
    "\n",
    "greater than ( > )\n",
    "\n",
    "greater than or equal to ( >= )\n",
    "\n",
    "equal to ( == )\n",
    "\n",
    "and not equal to ( != )."
   ]
  },
  {
   "cell_type": "markdown",
   "id": "4a88383c",
   "metadata": {},
   "source": [
    "**6. How do you tell the difference between the equal to and assignment operators ?Describe a condition and when you would use one.**\n",
    "\n",
    "Ans:- In Python “=” symbol is defined as assignment operator. It requires one variable on its left and an expression on its right. Value of the expression on right is assigned to variable on left. Expression and name of variable are not interchangeable.\n",
    "The “==” operator compares the values of two objects .It is used when the values of two operands are equal, then the condition becomes true.For example:-"
   ]
  },
  {
   "cell_type": "code",
   "execution_count": 14,
   "id": "c8f40a71",
   "metadata": {},
   "outputs": [
    {
     "name": "stdout",
     "output_type": "stream",
     "text": [
      "True\n"
     ]
    }
   ],
   "source": [
    "c=43 \n",
    "#here c is variable and 43 is assigned to it\n",
    "if c==43:# here comparision is being done between c and 43 which gives true as result\n",
    "    print(c==43)"
   ]
  },
  {
   "cell_type": "markdown",
   "id": "617d3647",
   "metadata": {},
   "source": [
    "**7. Identify the three blocks in this code:spam = 0.**\n",
    "\n",
    "if spam == 10:\n",
    "\n",
    "print('eggs') \n",
    "\n",
    "if spam > 5: \n",
    "\n",
    "print('bacon') \n",
    "\n",
    "else: \n",
    "\n",
    "print('ham') \n",
    "\n",
    "print('spam') \n",
    "\n",
    "print('spam')\n",
    "\n",
    "Ans :- A block is a piece of Python program text that is executed as a unit. The following are blocks: a module, a function body, and a class definition. "
   ]
  },
  {
   "cell_type": "code",
   "execution_count": 10,
   "id": "2e41b31d",
   "metadata": {},
   "outputs": [
    {
     "name": "stdout",
     "output_type": "stream",
     "text": [
      "ham\n",
      "spam\n",
      "spam\n"
     ]
    }
   ],
   "source": [
    "spam = 0  \n",
    "if spam == 10:  \n",
    "    print('eggs')  # block 1\n",
    "if spam > 5:  \n",
    "    print('bacon')  # block 2\n",
    "else:  \n",
    "    print('ham')  # block 3\n",
    "print('spam')  \n",
    "print('spam')"
   ]
  },
  {
   "cell_type": "markdown",
   "id": "907e3df3",
   "metadata": {},
   "source": [
    "**8. Write code that prints Hello if 1 is stored in spam, prints Howdy if 2 is stored in spam, and prints Greetings! if anything else is stored in spam.**\n",
    "\n",
    "Ans:-The code is as follows:-"
   ]
  },
  {
   "cell_type": "code",
   "execution_count": 11,
   "id": "3e466a41",
   "metadata": {},
   "outputs": [
    {
     "name": "stdout",
     "output_type": "stream",
     "text": [
      "Hello\n",
      "Howdy\n",
      "Greetings\n"
     ]
    }
   ],
   "source": [
    " def SpamCode(spam):\n",
    "    if spam==1:\n",
    "        print (\"Hello\")\n",
    "    elif  spam==2:\n",
    "        print (\"Howdy\")\n",
    "    else:\n",
    "        print (\"Greetings\")\n",
    "SpamCode(1) \n",
    "SpamCode(2)\n",
    "SpamCode(3)"
   ]
  },
  {
   "cell_type": "markdown",
   "id": "31767161",
   "metadata": {},
   "source": [
    "**9.If your programme is stuck in an endless loop, what keys you’ll press?**\n",
    "\n",
    "Ans:-To stop code from running you must interrupt the kernel. Interrupting the kernel stops the code from running but doesn't remove the variable you have stored in memory."
   ]
  },
  {
   "cell_type": "markdown",
   "id": "af3bcfff",
   "metadata": {},
   "source": [
    "**10. How can you tell the difference between break and continue?**\n",
    "\n",
    "Ans:- Break leaves the loop completely and executes the statements after the loop. Whereas Continue leaves the current iteration and executes with the next value in the loop. break completely exits the loop. continue skips the statements after the continue statement and keeps looping."
   ]
  },
  {
   "cell_type": "markdown",
   "id": "39244e17",
   "metadata": {},
   "source": [
    "**11. In a for loop, what is the difference between range (10), range(0, 10), and range(0, 10, 1)?**\n",
    "\n",
    "Ans:\n",
    "a. The range(10) calls range from 0 to 9 but  does not include 10.\n",
    "\n",
    "b.The  range (0,10) It will generate integers starting from the start number to end number excluding the end number i.e (0,1,2,3,4,5,6,7,8,9).\n",
    "\n",
    "c.The range(0,10,1) explicitly tells the loop to increase the variable by 1 on each iteration.Here step is 1."
   ]
  },
  {
   "cell_type": "markdown",
   "id": "c32aa36c",
   "metadata": {},
   "source": [
    "**12.Write a short program that prints the numbers 1 to 10 using a for loop. Then write an equivalent program that prints the numbers 1 to 10 using a while loop.**"
   ]
  },
  {
   "cell_type": "code",
   "execution_count": 12,
   "id": "a7990ed3",
   "metadata": {},
   "outputs": [
    {
     "name": "stdout",
     "output_type": "stream",
     "text": [
      "*****Using for Loop *****\n",
      "1 2 3 4 5 6 7 8 9 10 \n",
      "\n",
      "*****Using While Loop*****\n",
      "1 2 3 4 5 6 7 8 9 10 "
     ]
    }
   ],
   "source": [
    "print(\"*****Using for Loop *****\")\n",
    "for i in range(1,11):\n",
    "    print(i, end=\" \")\n",
    "print('\\n')\n",
    "print(\"*****Using While Loop*****\") \n",
    "i=1\n",
    "while i<=10:\n",
    "    print(i, end=\" \")\n",
    "    i+=1"
   ]
  },
  {
   "cell_type": "markdown",
   "id": "2b2a6e79",
   "metadata": {},
   "source": [
    "**13. If you had a function named bacon() inside a module named spam, how would you call it after importing spam ?**\n",
    "\n",
    "Ans:-  This function can be called with spam. bacon()."
   ]
  }
 ],
 "metadata": {
  "kernelspec": {
   "display_name": "Python 3 (ipykernel)",
   "language": "python",
   "name": "python3"
  },
  "language_info": {
   "codemirror_mode": {
    "name": "ipython",
    "version": 3
   },
   "file_extension": ".py",
   "mimetype": "text/x-python",
   "name": "python",
   "nbconvert_exporter": "python",
   "pygments_lexer": "ipython3",
   "version": "3.9.7"
  }
 },
 "nbformat": 4,
 "nbformat_minor": 5
}
