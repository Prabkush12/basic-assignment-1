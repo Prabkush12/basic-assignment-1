{
 "cells": [
  {
   "cell_type": "markdown",
   "id": "8d2d4225",
   "metadata": {},
   "source": [
    "## python basic Assignment 10"
   ]
  },
  {
   "cell_type": "markdown",
   "id": "70e24a6c",
   "metadata": {},
   "source": [
    "**1. How do you distinguish between shutil.copy() and shutil.copytree()?**\n",
    "\n",
    "Ans:-shutil.copy() method is used to copy the contents of a file from one file to another file/folder, it primary takes \n",
    "\n",
    "two arguments src,dest, src represents the file to be copied where as destination refers to the file/folder to where the \n",
    "\n",
    "src data should be copied, if dest is a folder name the src with exact name will be copied to the dest folder, if its a \n",
    "\n",
    "file then the contents of src will be copied to dest where dest retains it name.\n",
    "\n",
    "shutil.copytree() function is used to copy the entire contents of a folder to other folder. it also takes two arguments \n",
    "\n",
    "src & dest, it copies all the content recursively and stores it in dest. the important catch here is dest must not exist \n",
    "\n",
    "prior to this and it will be created during the copy operation. Permissions and times of directories are copied with \n",
    "\n",
    "shutil.copystat() and individual files are copied using shutil.copy2() by default which can be modified using \n",
    "\n",
    "copy_function attribute."
   ]
  },
  {
   "cell_type": "markdown",
   "id": "55f9d622",
   "metadata": {},
   "source": [
    "**2. What function is used to rename files??**\n",
    "\n",
    "Ans:-os.rename() function is used to rename files or directories using a python program, this function takes two arguments \n",
    "\n",
    "src and dest, src represents the name file/directory which we want to rename, whereas dest represents the new name of the \n",
    "\n",
    "file/directory."
   ]
  },
  {
   "cell_type": "markdown",
   "id": "bbab05a7",
   "metadata": {},
   "source": [
    "**3. What is the difference between the delete functions in the send2trash and shutil modules?**\n",
    "\n",
    "Ans:- Shutil module provides a funciton called as shutil.rmtree() which deletes a directory and all its contents. The \n",
    "\n",
    "other functions with similar functionality are os.remove() -> removes a file, os.rmdir() removes a empty directory. The \n",
    "\n",
    "problem with these functions is once a file is deleted. it will be lost permanently, if a file is deleted accidentally \n",
    "\n",
    "using these methods there is no way we can recover the deleted file\n",
    "\n",
    "Where as send2trash module provides a function called send2trash.send2trash() to delete a file/directory. these methods \n",
    "\n",
    "moves the files/directories to trash folder instead of permanently deleting them. hence if a file/folder is deleted \n",
    "\n",
    "accidentally it can be still recovered from trash folder, if is deleted using the send2trash.send2trash() function. \n",
    "\n",
    "send2trash is not included with python standard libary like os & shutil modules. it needs to be installed explicitly using \n",
    "\n",
    "the command !pip install send2trash"
   ]
  },
  {
   "cell_type": "markdown",
   "id": "0dedee31",
   "metadata": {},
   "source": [
    "**4.ZipFile objects have a close() method just like File objects’ close() method. What ZipFile method is\n",
    "equivalent to File objects’ open() method?**\n",
    "\n",
    "Ans:-ZipFile Module provides a method called as zipfile.ZipFile() to read and write to zipFiles. it takes arugments lile \n",
    "\n",
    "filename and mode etc zipfile.ZipFile('filename', mode = 'r')"
   ]
  },
  {
   "cell_type": "markdown",
   "id": "473ad0a8",
   "metadata": {},
   "source": [
    "**5. Create a programme that searches a folder tree for files with a certain file extension (such as .pdf\n",
    "or .jpg). Copy these files from whatever location they are in to a new folder.**\n",
    "\n",
    "Ans:-"
   ]
  },
  {
   "cell_type": "code",
   "execution_count": 3,
   "id": "5a2e1aca",
   "metadata": {},
   "outputs": [],
   "source": [
    "import os\n",
    "import shutil\n",
    "\n",
    "def search_and_copy(source,destination,extensions):\n",
    "    source = os.path.abspath(source)\n",
    "    destination = os.path.abspath(destination)\n",
    "    for foldername, subfolder, filenames in os.walk(source):\n",
    "        print(f'Folder Name ➞ {foldername}',end='\\n\\n')\n",
    "        print(f'Sub Folders ➞ {subfolder}',end='\\n\\n')\n",
    "        print(f'Files ➞ {filenames}',end='\\n\\n')\n",
    "        for filename in filenames:\n",
    "            fileName,extension = os.path.splitext(filename)\n",
    "            if extension in extensions:\n",
    "                targetFile = foldername+os.path.sep+fileName+extension\n",
    "                shutil.copy(targetFile, destination)\n",
    "        print(f'Files copied successfully from {source} to {destination}')\n",
    "    \n",
    "extensions = ['.pdf','.jpg','.ipynb']\n",
    "source = 'Dummy Source'\n",
    "destination = 'Dummy Destination'\n",
    "search_and_copy(source, destination, extensions)"
   ]
  },
  {
   "cell_type": "code",
   "execution_count": null,
   "id": "e38ceaf9",
   "metadata": {},
   "outputs": [],
   "source": []
  }
 ],
 "metadata": {
  "kernelspec": {
   "display_name": "Python 3 (ipykernel)",
   "language": "python",
   "name": "python3"
  },
  "language_info": {
   "codemirror_mode": {
    "name": "ipython",
    "version": 3
   },
   "file_extension": ".py",
   "mimetype": "text/x-python",
   "name": "python",
   "nbconvert_exporter": "python",
   "pygments_lexer": "ipython3",
   "version": "3.9.7"
  }
 },
 "nbformat": 4,
 "nbformat_minor": 5
}
