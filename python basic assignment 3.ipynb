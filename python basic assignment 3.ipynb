{
 "cells": [
  {
   "cell_type": "markdown",
   "id": "e27e0353",
   "metadata": {},
   "source": [
    "# python basic assignment 3"
   ]
  },
  {
   "cell_type": "markdown",
   "id": "5e532767",
   "metadata": {},
   "source": [
    "**1.Why are functions advantageous to have in your program ?**\n",
    "\n",
    "Ans:-Functions reduce the need for duplicate code. This makes programs shorter, easier to read, and easier to update.A function call is what moves the program execution into the function, and the function call evaluates to the function's return value."
   ]
  },
  {
   "cell_type": "markdown",
   "id": "4fc65e58",
   "metadata": {},
   "source": [
    "**2.When does the code in a function run: when it's specified or when it's called?**\n",
    "\n",
    "Ans:- The code in a function executes when the function is called but not when it is specified."
   ]
  },
  {
   "cell_type": "markdown",
   "id": "95f6ee8c",
   "metadata": {},
   "source": [
    "**3. What statement creates a function?**\n",
    "\n",
    "Ans:- The “def” keyword is a statement for defining a function in Python.We start a function with the def keyword, specify a name followed by a colon (:) sign. The “def” call creates the function object and assigns it to the name given."
   ]
  },
  {
   "cell_type": "markdown",
   "id": "eecf8d2d",
   "metadata": {},
   "source": [
    "**4. What is the difference between a function and a function call?**\n",
    "\n",
    "Ans:-A function call means invoking or calling that function. Unless a function is called there is no use of that function.So the difference between the function and function call is, a function is procedure to achieve a particular result while function call is using this function to achieve that task."
   ]
  },
  {
   "cell_type": "markdown",
   "id": "f8463eb4",
   "metadata": {},
   "source": [
    "**5. How many global scopes are there in a Python program? How many local scopes?**\n",
    "\n",
    "Ans:- There's only one global scope per in Python, a variable declared outside of the function or in global scope is known as a global variable. This means that a global variable can be accessed inside or outside of the function whereas.\n",
    "A local scope is created whenever a function is called."
   ]
  },
  {
   "cell_type": "markdown",
   "id": "d877c8d2",
   "metadata": {},
   "source": [
    "**6. What happens to variables in a local scope when the function call returns?**\n",
    "\n",
    "Ans:- When the execution of the function terminates (returns), the local variables are destroyed."
   ]
  },
  {
   "cell_type": "markdown",
   "id": "2fdbd9d9",
   "metadata": {},
   "source": [
    "**7. What is the concept of a return value? Is it possible to have a return value in an expression?**\n",
    "\n",
    "Ans:- A return is a value that a function returns to the calling script or function when it completes its task. A return value can be used as part of an expression."
   ]
  },
  {
   "cell_type": "markdown",
   "id": "c90fc178",
   "metadata": {},
   "source": [
    "**8. If a function does not have a return statement, what is the return value of a call to that function?**\n",
    "\n",
    "Ans:-If a function doesn't specify a return value, it returns None."
   ]
  },
  {
   "cell_type": "markdown",
   "id": "90d42968",
   "metadata": {},
   "source": [
    "**9. How do you make a function variable refer to the global variable?**\n",
    "\n",
    "Ans:- If you want to refer to a global variable in a function, you can use the global keyword to declare which variables are global."
   ]
  },
  {
   "cell_type": "markdown",
   "id": "d59ad83b",
   "metadata": {},
   "source": [
    "**10. What is the data type of None ?**\n",
    "\n",
    "Ans:-  It is a data type of the class “NoneType” object. "
   ]
  },
  {
   "cell_type": "markdown",
   "id": "6100e3d6",
   "metadata": {},
   "source": [
    "**11. What does the sentence import areallyourpetsnamederic do?**\n",
    "\n",
    "Ans:- This import statement imports a module named areallyourpetsnamederic."
   ]
  },
  {
   "cell_type": "markdown",
   "id": "72277b3c",
   "metadata": {},
   "source": [
    "**12. If you had a bacon() feature in a spam module, what would you call it after importing spam?**\n",
    "\n",
    "Ans:-  This function can be called with spam. bacon()."
   ]
  },
  {
   "cell_type": "markdown",
   "id": "e3588e54",
   "metadata": {},
   "source": [
    "**13. What can you do to save a programme from crashing if it encounters an error ?**\n",
    "\n",
    "Ans:- We can place the line of code that might cause an error in a try clause and use except block to handle the error."
   ]
  },
  {
   "cell_type": "markdown",
   "id": "e310e8ec",
   "metadata": {},
   "source": [
    "**14. What is the purpose of the try clause? What is the purpose of the except clause?**\n",
    "\n",
    "Ans:- T\the try block lets you test a block of code for errors. The except block lets you handle the error. The else block lets you execute code when there is no error."
   ]
  },
  {
   "cell_type": "code",
   "execution_count": null,
   "id": "2233aa37",
   "metadata": {},
   "outputs": [],
   "source": []
  }
 ],
 "metadata": {
  "kernelspec": {
   "display_name": "Python 3 (ipykernel)",
   "language": "python",
   "name": "python3"
  },
  "language_info": {
   "codemirror_mode": {
    "name": "ipython",
    "version": 3
   },
   "file_extension": ".py",
   "mimetype": "text/x-python",
   "name": "python",
   "nbconvert_exporter": "python",
   "pygments_lexer": "ipython3",
   "version": "3.9.7"
  }
 },
 "nbformat": 4,
 "nbformat_minor": 5
}
