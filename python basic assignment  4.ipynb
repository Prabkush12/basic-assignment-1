{
 "cells": [
  {
   "cell_type": "markdown",
   "id": "18e26a03",
   "metadata": {},
   "source": [
    "# PYTHON BASIC ASSIGNMENT 4"
   ]
  },
  {
   "cell_type": "markdown",
   "id": "f2e6ee4c",
   "metadata": {},
   "source": [
    "**1. What exactly is []?**\n",
    "\n",
    "Ans:-In python [] represents an empty list and is defined as the list with no elements or items."
   ]
  },
  {
   "cell_type": "markdown",
   "id": "3fc8b3ab",
   "metadata": {},
   "source": [
    "**2.In a list of values stored in a variable called spam, how would you assign the value 'hello' as the\n",
    "third value? (Assume [2, 4, 6, 8, 10] are in spam.**\n"
   ]
  },
  {
   "cell_type": "code",
   "execution_count": 8,
   "id": "c404117a",
   "metadata": {},
   "outputs": [
    {
     "name": "stdout",
     "output_type": "stream",
     "text": [
      "[2, 4, 6, 8, 10]\n",
      "[2, 4, 'hello', 8, 10]\n"
     ]
    }
   ],
   "source": [
    "spam=[2,4,6,8,10]\n",
    "print(spam)              \n",
    "spam[2]='hello' #using indexing\n",
    "print(spam)\n"
   ]
  },
  {
   "cell_type": "markdown",
   "id": "6e2f021c",
   "metadata": {},
   "source": [
    "**3.Let's pretend the spam includes the list ['a', 'b', 'c', 'd'] for the next three queries.**\n",
    "\n",
    "3. What is the value of spam[int(int('3' * 2) / 11)]?\n",
    "\n",
    "Ans:-'d' (Here '3' * 2 is the string '33', which is passed to int() before being divided by 11. This eventually evaluates to 3, spam[3] is equal to d.)  "
   ]
  },
  {
   "cell_type": "code",
   "execution_count": 1,
   "id": "c562224e",
   "metadata": {},
   "outputs": [
    {
     "name": "stdout",
     "output_type": "stream",
     "text": [
      "d\n"
     ]
    }
   ],
   "source": [
    "spam=['a','b','c','d']\n",
    "spam=spam[int(int('3'*2)//11)]\n",
    "print(spam)"
   ]
  },
  {
   "cell_type": "markdown",
   "id": "e8ea6c42",
   "metadata": {},
   "source": [
    "**4. What is the value of spam[-1]?**\n",
    "\n",
    "Ans:-"
   ]
  },
  {
   "cell_type": "code",
   "execution_count": 2,
   "id": "6e039130",
   "metadata": {},
   "outputs": [
    {
     "name": "stdout",
     "output_type": "stream",
     "text": [
      "spam[-1] ->  d\n"
     ]
    }
   ],
   "source": [
    "   \n",
    "spam=['a','b','c','d']\n",
    "print('spam[-1] -> ',spam[-1])"
   ]
  },
  {
   "cell_type": "markdown",
   "id": "20642289",
   "metadata": {},
   "source": [
    "**5. What is the value of spam[:2]?**\n",
    "\n",
    "Ans:-"
   ]
  },
  {
   "cell_type": "code",
   "execution_count": 3,
   "id": "693cc109",
   "metadata": {},
   "outputs": [
    {
     "name": "stdout",
     "output_type": "stream",
     "text": [
      "['a', 'b']\n"
     ]
    }
   ],
   "source": [
    "print(spam[:2])"
   ]
  },
  {
   "cell_type": "markdown",
   "id": "a0a35080",
   "metadata": {},
   "source": [
    "**6.Let's pretend bacon has the list [3.14,'cat',11,'cat',True] for the next three question**\n",
    "\n",
    "6. What is the value of bacon.index('cat')?\n",
    "\n",
    "Ans: The value of bacon.index('cat') is 1 (Note: index method returns the index of first occuerence of 'cat')"
   ]
  },
  {
   "cell_type": "code",
   "execution_count": 4,
   "id": "325e8305",
   "metadata": {},
   "outputs": [
    {
     "name": "stdout",
     "output_type": "stream",
     "text": [
      "bacon.index('cat') -> 1\n"
     ]
    }
   ],
   "source": [
    "bacon=[3.14,'cat',11,'cat',True]\n",
    "print(\"bacon.index('cat') ->\",bacon.index('cat'))"
   ]
  },
  {
   "cell_type": "markdown",
   "id": "68cfe846",
   "metadata": {},
   "source": [
    "**7. How does bacon.append(99) change the look of the list value in bacon?**\n",
    "\n",
    "Ans: The append method adds new elements to the end of the list"
   ]
  },
  {
   "cell_type": "code",
   "execution_count": 5,
   "id": "06d256ca",
   "metadata": {},
   "outputs": [
    {
     "name": "stdout",
     "output_type": "stream",
     "text": [
      "[3.14, 'cat', 11, 'cat', True]\n",
      "[3.14, 'cat', 11, 'cat', True, 99]\n"
     ]
    }
   ],
   "source": [
    "bacon=[3.14,'cat',11,'cat',True]\n",
    "print(bacon)\n",
    "bacon.append(99) # appends 99 to its end.\n",
    "print(bacon)"
   ]
  },
  {
   "cell_type": "markdown",
   "id": "e3974a26",
   "metadata": {},
   "source": [
    "**8. How does bacon.remove('cat') change the look of the list in bacon?**\n",
    "\n",
    "Ans: The remove method removes the first occurence of the element in the list"
   ]
  },
  {
   "cell_type": "code",
   "execution_count": 6,
   "id": "f715f5ed",
   "metadata": {},
   "outputs": [
    {
     "name": "stdout",
     "output_type": "stream",
     "text": [
      "[3.14, 'cat', 11, 'cat', True]\n",
      "[3.14, 11, 'cat', True]\n"
     ]
    }
   ],
   "source": [
    "bacon=[3.14,'cat',11,'cat',True]\n",
    "print(bacon)\n",
    "bacon.remove('cat')\n",
    "print(bacon)"
   ]
  },
  {
   "cell_type": "markdown",
   "id": "b441ea35",
   "metadata": {},
   "source": [
    "**9.what are the list concatenation and list replication operations?**\n",
    "\n",
    "Ans: The operator for list concatenation is +, while the operator for replication is *."
   ]
  },
  {
   "cell_type": "code",
   "execution_count": 10,
   "id": "c26b5a61",
   "metadata": {},
   "outputs": [
    {
     "name": "stdout",
     "output_type": "stream",
     "text": [
      "['cat', 'mat', 'car', 'dog', 'toto', 'bus']\n",
      "['dog', 'toto', 'bus', 'dog', 'toto', 'bus']\n"
     ]
    }
   ],
   "source": [
    "list_1 = ['cat',\"mat\",'car']\n",
    "list_2 = ['dog',\"toto\",'bus']\n",
    "print(list_1 +list_2) # List Concatenation\n",
    "print(list_2*2) # List Replication"
   ]
  },
  {
   "cell_type": "markdown",
   "id": "083e4516",
   "metadata": {},
   "source": [
    "**10.what is the difference between the list method append() and insert()?**\n",
    "\n",
    "Ans: While append() will add values only to the end of a list, insert() can add them anywhere in the list."
   ]
  },
  {
   "cell_type": "code",
   "execution_count": 7,
   "id": "2fcfb9d3",
   "metadata": {},
   "outputs": [
    {
     "name": "stdout",
     "output_type": "stream",
     "text": [
      "[10, 20, 30, 40, 50, 60]\n",
      "[10, 20, 30, 40, 50, 60, 'wow']\n"
     ]
    }
   ],
   "source": [
    "#solution\n",
    "list = [10,20,30,40,50]\n",
    "list.append(60)\n",
    "print(list)\n",
    "list.insert(27,'wow')\n",
    "print(list)"
   ]
  },
  {
   "cell_type": "markdown",
   "id": "44772ab1",
   "metadata": {},
   "source": [
    "**11.What are the two methods for removing items from a list?**\n",
    "\n",
    "Ans:- The remove() method,pop()are the ways to remove values from a list. "
   ]
  },
  {
   "cell_type": "markdown",
   "id": "d33e51a6",
   "metadata": {},
   "source": [
    "**12. Describe how list values and string values are identical.**\n",
    "\n",
    "Ans:-Both lists and strings can be passed to len(), have indexes and slices, be used in for loops, be concatenated or replicated, and be used with the in and not in operators."
   ]
  },
  {
   "cell_type": "markdown",
   "id": "5cb0018f",
   "metadata": {},
   "source": [
    "**13. What's the difference between tuples and lists?**\n",
    "\n",
    "Ans:-The key difference between the tuples and lists is that while the tuples are immutable objects the lists are mutable.This means that tuples cannot be changed while the lists can be modified."
   ]
  },
  {
   "cell_type": "markdown",
   "id": "3616b07d",
   "metadata": {},
   "source": [
    "**14. How do you type a tuple value that only contains the integer 42?**\n",
    "\n",
    "Ans:-To create a tuple with a single item, there must be a comma after the first item otherwise it treats it as an integer."
   ]
  },
  {
   "cell_type": "code",
   "execution_count": 9,
   "id": "2178f95f",
   "metadata": {},
   "outputs": [
    {
     "name": "stdout",
     "output_type": "stream",
     "text": [
      "<class 'int'>\n",
      "<class 'tuple'>\n"
     ]
    }
   ],
   "source": [
    "tup_a=(82)\n",
    "tup_b=(82,)\n",
    "print(type(tup_a))\n",
    "print(type(tup_b))"
   ]
  },
  {
   "cell_type": "markdown",
   "id": "2557f197",
   "metadata": {},
   "source": [
    "**15.How do you get a list value tuple form?How do you get a tuple value's list form?**\n",
    "\n",
    "Ans:-The tuple() and list() functions aren respectively used to convert a list to tuple and vice versa."
   ]
  },
  {
   "cell_type": "markdown",
   "id": "1869ec78",
   "metadata": {},
   "source": [
    "**16. Variables that \"contain\" list values are not necessarily lists themselves. Instead, what do they\n",
    "contain?**\n",
    "\n",
    "Ans:-Variables will contain references to list values rather than list values themselves.But for strings and integer values, \n",
    "\n",
    "variables simply contain the string or integer value."
   ]
  },
  {
   "cell_type": "markdown",
   "id": "1e82a414",
   "metadata": {},
   "source": [
    "**17. How do you distinguish between copy.copy() and copy.deepcopy()?**\n",
    "\n",
    "Ans:-The difference between copy.copy() and deep copying is only relevant for compound objects (objects that contain other objects, like lists or class instances):\n",
    "\n",
    "A shallow copy constructs a new compound object and then (to the extent possible) inserts references into it to the objects found in the original.\n",
    "\n",
    "A deep copy constructs a new compound object and then, recursively, inserts copies into it of the objects found in the origina\n",
    "\n"
   ]
  },
  {
   "cell_type": "code",
   "execution_count": null,
   "id": "8d458043",
   "metadata": {},
   "outputs": [],
   "source": []
  }
 ],
 "metadata": {
  "kernelspec": {
   "display_name": "Python 3 (ipykernel)",
   "language": "python",
   "name": "python3"
  },
  "language_info": {
   "codemirror_mode": {
    "name": "ipython",
    "version": 3
   },
   "file_extension": ".py",
   "mimetype": "text/x-python",
   "name": "python",
   "nbconvert_exporter": "python",
   "pygments_lexer": "ipython3",
   "version": "3.9.7"
  }
 },
 "nbformat": 4,
 "nbformat_minor": 5
}
