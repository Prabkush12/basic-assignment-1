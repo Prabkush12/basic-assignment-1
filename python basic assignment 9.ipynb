{
 "cells": [
  {
   "cell_type": "markdown",
   "id": "59549f69",
   "metadata": {},
   "source": [
    "## python basic assignment 9"
   ]
  },
  {
   "cell_type": "markdown",
   "id": "05cb6c48",
   "metadata": {},
   "source": [
    "**1. To what does a relative path refer?**\n",
    "\n",
    "Ans:-A relpath() method in Python is used to get a relative filepath to the given path either from the current working directory or from the given directory. "
   ]
  },
  {
   "cell_type": "markdown",
   "id": "9a30415b",
   "metadata": {},
   "source": [
    "**2. What does an absolute path start with your operating system ?**\n",
    "\n",
    "Ans:-An absolute path is a path that contains the entire path to the file or directory that you need to access. This path will begin \n",
    "\n",
    "at the home directory of your computer and will end with the file or directory that you wish to access. Absolute paths ensure that \n",
    "\n",
    "Python can find the exact file on your computer."
   ]
  },
  {
   "cell_type": "markdown",
   "id": "b9489148",
   "metadata": {},
   "source": [
    "**3. What do the functions os.getcwd() and os.chdir() do?**\n",
    "\n",
    "Ans:- os.getcwd() function allows you to see what your current working directory is whereas os.chdir() method in Python used to change the current working directory to specified path."
   ]
  },
  {
   "cell_type": "markdown",
   "id": "4203b116",
   "metadata": {},
   "source": [
    "**4. What are the . and .. folders?**\n",
    "\n",
    "Ans:- . Represents the Current Directory Whereas .. Represents the Parent Directory of the respective Current Directory."
   ]
  },
  {
   "cell_type": "markdown",
   "id": "57fd9115",
   "metadata": {},
   "source": [
    "**5. In C:\\bacon\\eggs\\spam.txt, which part is the dir name, and which part is the base name?**\n",
    "\n",
    "Ans:-5.\n",
    "\n",
    "For C:\\bacon\\eggs\\spam.txt\n",
    "\n",
    "The name of the directory is C:\\\\bacon\\\\eggs\n",
    "\n",
    "The base name is spam.txt"
   ]
  },
  {
   "cell_type": "code",
   "execution_count": 1,
   "id": "caf264f4",
   "metadata": {},
   "outputs": [
    {
     "name": "stdout",
     "output_type": "stream",
     "text": [
      "C:\\bacon\\eggs\n",
      "spam.txt\n"
     ]
    }
   ],
   "source": [
    "import os\n",
    "path = r'C:\\bacon\\eggs\\spam.txt'\n",
    "print(os.path.dirname(path))\n",
    "print(os.path.basename(path))"
   ]
  },
  {
   "cell_type": "markdown",
   "id": "b29a2bb2",
   "metadata": {},
   "source": [
    "**6. What are the three “mode” arguments that can be passed to the open() function?**\n",
    "\n",
    "Ans:-Before performing any operation on the file like read or write, first we have to open that file. For this, we should use \n",
    "\n",
    "Python’s inbuilt function open()\n",
    "\n",
    "But at the time of opening, we have to specify the mode, which represents the purpose of the opening file.\n",
    "\n",
    "f = open(filename, mode)\n",
    "\n",
    "r: open an existing file for a read operation.\n",
    "\n",
    "w: open an existing file for a write operation. If the file already contains some data then it will be overridden.\n",
    "\n",
    "a:  open an existing file for append operation. It won’t override existing data.\n",
    "\n",
    "r+:  To read and write data into the file. The previous data in the file will not be deleted.\n",
    "\n",
    "w+: To write and read data. It will override existing data.\n",
    "\n",
    "a+: To append and read data from the file. It won’t override existing data."
   ]
  },
  {
   "cell_type": "markdown",
   "id": "61df66cf",
   "metadata": {},
   "source": [
    "**7. What happens if an existing file is opened in write mode?**\n",
    "\n",
    "Ans:-To open a file in write mode, “w” is specified. When mode “w” is specified, it creates an empty file for output operations. \n",
    "\n",
    "What if the file already exists? If a file with the same name already exists, its contents are discarded and the file is treated as \n",
    "\n",
    "a new empty file."
   ]
  },
  {
   "cell_type": "markdown",
   "id": "fe215617",
   "metadata": {},
   "source": [
    "**8. How do you tell the difference between read() and readlines()**\n",
    "\n",
    "Ans:-The main difference is that read() will read the whole file at once and then print out the first characters that take up as \n",
    "\n",
    "many bytes as you specify in the parenthesis versus the readline() that will read and print out only the first characters that take \n",
    "\n",
    "up as many bytes as you specify in the parenthesis. You may want to use readline() when you're reading files that are too big for \n",
    "\n",
    "your RAM."
   ]
  },
  {
   "cell_type": "markdown",
   "id": "872196e1",
   "metadata": {},
   "source": [
    "**9. What data structure does a shelf value resemble?**\n",
    "\n",
    "Ans:-A shelf value resembles a dictionary value; it has keys and values, along with keys() and values() methods that work similarly \n",
    "\n",
    "to the dictionary methods of the same names."
   ]
  }
 ],
 "metadata": {
  "kernelspec": {
   "display_name": "Python 3 (ipykernel)",
   "language": "python",
   "name": "python3"
  },
  "language_info": {
   "codemirror_mode": {
    "name": "ipython",
    "version": 3
   },
   "file_extension": ".py",
   "mimetype": "text/x-python",
   "name": "python",
   "nbconvert_exporter": "python",
   "pygments_lexer": "ipython3",
   "version": "3.9.7"
  }
 },
 "nbformat": 4,
 "nbformat_minor": 5
}
