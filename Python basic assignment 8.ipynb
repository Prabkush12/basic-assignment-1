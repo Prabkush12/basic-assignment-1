{
 "cells": [
  {
   "cell_type": "markdown",
   "id": "491d8420",
   "metadata": {},
   "source": [
    "## Python basic assignment 8\n"
   ]
  },
  {
   "cell_type": "markdown",
   "id": "de4299d9",
   "metadata": {},
   "source": [
    "**1. Is the Python Standard Library included with PyInputPlus?**\n",
    "\n",
    "Ans:-PyInputPlus is not a part of the Python Standard Library, so you must install it separately using Pip.Install the module via \n",
    "\n",
    "pip command :! pip install PyInputPlus"
   ]
  },
  {
   "cell_type": "markdown",
   "id": "176c80df",
   "metadata": {},
   "source": [
    "**2. Why is PyInputPlus commonly imported with import pyinputplus as pypi?**\n",
    "\n",
    "Ans:-We can import the module with import pyinputplus as pyip so that you can enter a shorter name when calling the module's \n",
    "\n",
    "function which makes it comparitively easier."
   ]
  },
  {
   "cell_type": "markdown",
   "id": "9fbc8101",
   "metadata": {},
   "source": [
    "**3. How do you distinguish between inputInt() and inputFloat()?**\n",
    "\n",
    "Ans:-inputInt() : Accepts an integer value.It takes additional parameters ‘min’, ‘max’, ‘greaterThan’ and ‘lessThan’  for bounds. \n",
    "\n",
    "Returns an integer.\n",
    "\n",
    "inputFloat() : Accepts a floating-point numeric value. It also takes additional ‘min’, ‘max’, ‘greaterThan’ and ‘lessThan’  \n",
    "\n",
    "parameters. Returns a float."
   ]
  },
  {
   "cell_type": "markdown",
   "id": "07df301f",
   "metadata": {},
   "source": [
    "**4. Using PyInputPlus, how do you ensure that the user enters a whole number between 0 and 99?**\n",
    "\n",
    "Ans:-The module PyInputPlus provides a function called as inputInt() which only returns  an integer values.Inorder to restrict the \n",
    "\n",
    "input between 0 and 99 we use parameters like min & max to ensure that user enters the values between the fixed range only."
   ]
  },
  {
   "cell_type": "code",
   "execution_count": null,
   "id": "215359fc",
   "metadata": {},
   "outputs": [],
   "source": [
    "import !pyinputplus as pyip\n",
    "Wholenumber = pyip.inputInt(prompt='Enter a number: ', min=0, max=100)\n",
    "print(Wholenumber)"
   ]
  },
  {
   "cell_type": "markdown",
   "id": "00f951c6",
   "metadata": {},
   "source": [
    "**5. What is transferred to the keyword arguments allowRegexes and blockRegexes?**\n",
    "\n",
    "Ans:- The allowRegexes and blockRegexes keyword arguments take a list of regular expression strings to determine what the \n",
    "\n",
    "PyInputPlus function will accept or reject as valid input. \n"
   ]
  },
  {
   "cell_type": "markdown",
   "id": "68023017",
   "metadata": {},
   "source": [
    "**6. If a blank input is entered three times, what does inputStr(limit=3) do?**\n",
    "\n",
    "Ans:-The statement inputStr(limit=3) will throw two exceptions ValidationException and RetryLimitException. The first exception is \n",
    "\n",
    "thrown because blank values are not allowed by inputStr() function by default. it we want to consider blank values as valid input, \n",
    "\n",
    "we have to set blank=True.\n",
    "\n",
    "The second exception is occured because we have reached the max limit we have specified by using limit parameter. inorder to avoid \n",
    "\n",
    "this exception we can use default parameter to return a default value when max limit is reached.\n",
    "\n",
    "By default, blank input isn’t allowed unless the blank keyword argument is set to True:"
   ]
  },
  {
   "cell_type": "markdown",
   "id": "1f64e362",
   "metadata": {},
   "source": [
    "**7. If blank input is entered three times, what does inputStr(limit=3, default='hello') do?**\n",
    "\n",
    "Ans:-Since the default parameter is set to hello. after blank input is entered three times instead of raising RetryLimitException \n",
    "\n",
    "exception. the function will return hello as response to the calling function."
   ]
  },
  {
   "cell_type": "code",
   "execution_count": null,
   "id": "712e3346",
   "metadata": {},
   "outputs": [],
   "source": []
  }
 ],
 "metadata": {
  "kernelspec": {
   "display_name": "Python 3 (ipykernel)",
   "language": "python",
   "name": "python3"
  },
  "language_info": {
   "codemirror_mode": {
    "name": "ipython",
    "version": 3
   },
   "file_extension": ".py",
   "mimetype": "text/x-python",
   "name": "python",
   "nbconvert_exporter": "python",
   "pygments_lexer": "ipython3",
   "version": "3.9.7"
  }
 },
 "nbformat": 4,
 "nbformat_minor": 5
}
